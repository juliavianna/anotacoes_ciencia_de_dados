{
 "cells": [
  {
   "cell_type": "markdown",
   "id": "b5d2d744",
   "metadata": {},
   "source": [
    "### Comando if"
   ]
  },
  {
   "cell_type": "code",
   "execution_count": null,
   "id": "96e989a1",
   "metadata": {},
   "outputs": [],
   "source": [
    "# IF\n",
    "if(condicao):\n",
    "    bloco_comandos\n",
    "    #deve ter identação (tab)\n",
    "    \n",
    "    \n",
    "# IF ELSE    \n",
    "if(condicao):\n",
    "    bloco_comandos\n",
    "    #deve ter identação (tab)\n",
    "else:\n",
    "    bloco_comandos2\n",
    "    \n",
    "# ELIF \n",
    "elif(condicao):\n",
    "    bloco_comandos\n",
    "\n",
    "# ELSE\n",
    "else:\n",
    "    bloco_comandos"
   ]
  },
  {
   "cell_type": "markdown",
   "id": "4c520385",
   "metadata": {},
   "source": [
    "### Comando while \n",
    "~~~\n",
    "é o comando usado p programar repetiçoes \n",
    "~~~"
   ]
  },
  {
   "cell_type": "code",
   "execution_count": 1,
   "id": "5a509f35",
   "metadata": {},
   "outputs": [
    {
     "name": "stdout",
     "output_type": "stream",
     "text": [
      "Digite um nome: julia\n",
      "Digite uma idade: 19\n",
      "Digite um nome: ana\n",
      "Digite uma idade: 29\n",
      "Digite um nome: lucas\n",
      "Digite uma idade: 90\n",
      "Digite um nome: paulo\n",
      "Digite uma idade: 26\n",
      "Digite um nome: fim\n",
      "\n",
      "Nomes digitados\n",
      "=======\n",
      "['julia', 'ana', 'lucas', 'paulo']\n",
      "[19, 29, 90, 26]\n"
     ]
    }
   ],
   "source": [
    "lista_idades = []\n",
    "lista_pessoas = []\n",
    "nome = input(\"Digite um nome: \")\n",
    "while(nome.lower() != 'fim'):\n",
    "    idade = int(input(\"Digite uma idade: \"))\n",
    "    lista_idades.append(idade)\n",
    "    lista_pessoas.append(nome)\n",
    "    nome = input (\"Digite um nome: \")\n",
    "print(\"\\nNomes digitados\\n=======\")\n",
    "print(lista_pessoas)\n",
    "print(lista_idades)"
   ]
  },
  {
   "cell_type": "markdown",
   "id": "2df0dc6c",
   "metadata": {},
   "source": [
    "### Comando for\n",
    "~~~\n",
    "bom para iterar sobre uma lista\n",
    "~~~"
   ]
  },
  {
   "cell_type": "code",
   "execution_count": null,
   "id": "53790c8f",
   "metadata": {},
   "outputs": [],
   "source": [
    "lista = [1, 19, 2, 15, 21, 12, 2]\n",
    "for num in lista\n",
    "    print num "
   ]
  },
  {
   "cell_type": "code",
   "execution_count": 3,
   "id": "948323b6",
   "metadata": {},
   "outputs": [
    {
     "name": "stdout",
     "output_type": "stream",
     "text": [
      "1  é ímpar\n",
      "19  é ímpar\n",
      "2 é par\n",
      "15  é ímpar\n",
      "21  é ímpar\n",
      "12 é par\n",
      "2 é par\n"
     ]
    }
   ],
   "source": [
    "# verificando se um num é par ou ímpar \n",
    "lista = [1, 19, 2, 15, 21, 12, 2]\n",
    "for num in lista:\n",
    "    if num % 2 == 0: # se o resultado da divisão for 0, o num é par\n",
    "        print(\"{} é par\".format(num))\n",
    "    else:\n",
    "        print(num,\" é ímpar\")"
   ]
  },
  {
   "cell_type": "code",
   "execution_count": 4,
   "id": "ba3665d7",
   "metadata": {},
   "outputs": [
    {
     "name": "stdout",
     "output_type": "stream",
     "text": [
      "0\n",
      "1\n",
      "2\n",
      "3\n",
      "4\n"
     ]
    }
   ],
   "source": [
    "# iterando sobre uma faixa de valores gerada c a funç range()\n",
    "for i in range(5):\n",
    "    print(i)"
   ]
  },
  {
   "cell_type": "markdown",
   "id": "38255cc3",
   "metadata": {},
   "source": [
    "### Iterando sobre uma string"
   ]
  },
  {
   "cell_type": "code",
   "execution_count": null,
   "id": "67e58c78",
   "metadata": {},
   "outputs": [],
   "source": [
    "# percorrer cada letra\n",
    "maiorPalavra = \"pneumoultramicroscopicossilicovulcanoconiótico\"\n",
    "for letra in maiorPalavra:\n",
    "    print(letra)"
   ]
  },
  {
   "cell_type": "markdown",
   "id": "6a72e537",
   "metadata": {},
   "source": [
    "### Iterando sobre uma tupla"
   ]
  },
  {
   "cell_type": "code",
   "execution_count": 5,
   "id": "7410696c",
   "metadata": {},
   "outputs": [
    {
     "name": "stdout",
     "output_type": "stream",
     "text": [
      "1\n",
      "19\n",
      "5\n",
      "12\n",
      "6\n"
     ]
    }
   ],
   "source": [
    "tupla = (1, 19, 5, 12, 6)\n",
    "for elemento in tupla:\n",
    "    print(elemento)"
   ]
  },
  {
   "cell_type": "code",
   "execution_count": null,
   "id": "a31d7220",
   "metadata": {},
   "outputs": [],
   "source": []
  },
  {
   "cell_type": "markdown",
   "id": "b962191d",
   "metadata": {},
   "source": [
    "### Iterando em um conjunto"
   ]
  }
 ],
 "metadata": {
  "kernelspec": {
   "display_name": "Python 3 (ipykernel)",
   "language": "python",
   "name": "python3"
  },
  "language_info": {
   "codemirror_mode": {
    "name": "ipython",
    "version": 3
   },
   "file_extension": ".py",
   "mimetype": "text/x-python",
   "name": "python",
   "nbconvert_exporter": "python",
   "pygments_lexer": "ipython3",
   "version": "3.11.5"
  }
 },
 "nbformat": 4,
 "nbformat_minor": 5
}
