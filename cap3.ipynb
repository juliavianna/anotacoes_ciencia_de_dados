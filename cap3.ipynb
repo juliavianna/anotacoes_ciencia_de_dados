{
 "cells": [
  {
   "cell_type": "markdown",
   "id": "b5d2d744",
   "metadata": {},
   "source": [
    "## Comando if"
   ]
  },
  {
   "cell_type": "code",
   "execution_count": null,
   "id": "96e989a1",
   "metadata": {},
   "outputs": [],
   "source": [
    "# IF\n",
    "if(condicao):\n",
    "    bloco_comandos\n",
    "    #deve ter identação (tab)\n",
    "    \n",
    "    \n",
    "# IF ELSE    \n",
    "if(condicao):\n",
    "    bloco_comandos\n",
    "    #deve ter identação (tab)\n",
    "else:\n",
    "    bloco_comandos2\n",
    "    \n",
    "# ELIF \n",
    "elif(condicao):\n",
    "    bloco_comandos\n",
    "\n",
    "# ELSE\n",
    "else:\n",
    "    bloco_comandos"
   ]
  },
  {
   "cell_type": "markdown",
   "id": "4c520385",
   "metadata": {},
   "source": [
    "## Comando while \n",
    "~~~\n",
    "é o comando usado p programar repetiçoes \n",
    "~~~"
   ]
  },
  {
   "cell_type": "code",
   "execution_count": 1,
   "id": "5a509f35",
   "metadata": {},
   "outputs": [
    {
     "name": "stdout",
     "output_type": "stream",
     "text": [
      "Digite um nome: julia\n",
      "Digite uma idade: 19\n",
      "Digite um nome: ana\n",
      "Digite uma idade: 29\n",
      "Digite um nome: lucas\n",
      "Digite uma idade: 90\n",
      "Digite um nome: paulo\n",
      "Digite uma idade: 26\n",
      "Digite um nome: fim\n",
      "\n",
      "Nomes digitados\n",
      "=======\n",
      "['julia', 'ana', 'lucas', 'paulo']\n",
      "[19, 29, 90, 26]\n"
     ]
    }
   ],
   "source": [
    "lista_idades = []\n",
    "lista_pessoas = []\n",
    "nome = input(\"Digite um nome: \")\n",
    "while(nome.lower() != 'fim'):\n",
    "    idade = int(input(\"Digite uma idade: \"))\n",
    "    lista_idades.append(idade)\n",
    "    lista_pessoas.append(nome)\n",
    "    nome = input (\"Digite um nome: \")\n",
    "print(\"\\nNomes digitados\\n=======\")\n",
    "print(lista_pessoas)\n",
    "print(lista_idades)"
   ]
  },
  {
   "cell_type": "markdown",
   "id": "2df0dc6c",
   "metadata": {},
   "source": [
    "## Comando for\n",
    "~~~\n",
    "bom para iterar sobre uma lista\n",
    "~~~"
   ]
  },
  {
   "cell_type": "code",
   "execution_count": null,
   "id": "ffef628f",
   "metadata": {},
   "outputs": [],
   "source": [
    "lista = [1, 19, 2, 15, 21, 12, 2]\n",
    "for num in lista\n",
    "    print num "
   ]
  },
  {
   "cell_type": "code",
   "execution_count": 3,
   "id": "89783530",
   "metadata": {},
   "outputs": [
    {
     "name": "stdout",
     "output_type": "stream",
     "text": [
      "1  é ímpar\n",
      "19  é ímpar\n",
      "2 é par\n",
      "15  é ímpar\n",
      "21  é ímpar\n",
      "12 é par\n",
      "2 é par\n"
     ]
    }
   ],
   "source": [
    "# verificando se um num é par ou ímpar \n",
    "lista = [1, 19, 2, 15, 21, 12, 2]\n",
    "for num in lista:\n",
    "    if num % 2 == 0: # se o resultado da divisão for 0, o num é par\n",
    "        print(\"{} é par\".format(num))\n",
    "    else:\n",
    "        print(num,\" é ímpar\")"
   ]
  },
  {
   "cell_type": "code",
   "execution_count": 4,
   "id": "ba3665d7",
   "metadata": {},
   "outputs": [
    {
     "name": "stdout",
     "output_type": "stream",
     "text": [
      "0\n",
      "1\n",
      "2\n",
      "3\n",
      "4\n"
     ]
    }
   ],
   "source": [
    "# iterando sobre uma faixa de valores gerada c a funç range()\n",
    "for i in range(5):\n",
    "    print(i)"
   ]
  },
  {
   "cell_type": "markdown",
   "id": "2b6eeb32",
   "metadata": {},
   "source": [
    "### Iterando sobre uma string"
   ]
  },
  {
   "cell_type": "code",
   "execution_count": null,
   "id": "58f0da56",
   "metadata": {},
   "outputs": [],
   "source": [
    "# percorrer cada letra\n",
    "maiorPalavra = \"pneumoultramicroscopicossilicovulcanoconiótico\"\n",
    "for letra in maiorPalavra:\n",
    "    print(letra)"
   ]
  },
  {
   "cell_type": "markdown",
   "id": "71e56891",
   "metadata": {},
   "source": [
    "### Iterando sobre uma tupla"
   ]
  },
  {
   "cell_type": "code",
   "execution_count": 5,
   "id": "42cd2418",
   "metadata": {},
   "outputs": [
    {
     "name": "stdout",
     "output_type": "stream",
     "text": [
      "1\n",
      "19\n",
      "5\n",
      "12\n",
      "6\n"
     ]
    }
   ],
   "source": [
    "tupla = (1, 19, 5, 12, 6)\n",
    "for elemento in tupla:\n",
    "    print(elemento)"
   ]
  },
  {
   "cell_type": "code",
   "execution_count": 8,
   "id": "ebe82a06",
   "metadata": {},
   "outputs": [
    {
     "name": "stdout",
     "output_type": "stream",
     "text": [
      "<class 'list'>\n",
      "<class 'tuple'>\n",
      "<class 'int'>\n"
     ]
    }
   ],
   "source": [
    "lista_tupla = [(1, 2, 3), (4, 5, 6), (7, 8, 9)]\n",
    "(t1, t2, t3) = lista_tupla[1]   # desmembrando a lista\n",
    "\n",
    "print(type(lista_tupla))   # imprime o tipo da lista_tupla\n",
    "print(type(lista_tupla[1]))   # imprime o tipo do primeiro dado da lista\n",
    "print(type(t1))   # imprime o tipo da tupla"
   ]
  },
  {
   "cell_type": "markdown",
   "id": "37fbdee0",
   "metadata": {},
   "source": [
    "### Iterando em um conjunto"
   ]
  },
  {
   "cell_type": "code",
   "execution_count": 9,
   "id": "5766b397",
   "metadata": {},
   "outputs": [
    {
     "name": "stdout",
     "output_type": "stream",
     "text": [
      "1\n",
      "2\n",
      "3\n",
      "4\n",
      "5\n",
      "6\n"
     ]
    }
   ],
   "source": [
    "conj1 = {1, 5, 2, 6, 3, 4}\n",
    "\n",
    "for elemento in conj1:\n",
    "    print(elemento)"
   ]
  },
  {
   "cell_type": "code",
   "execution_count": 10,
   "id": "3fd70b2a",
   "metadata": {},
   "outputs": [
    {
     "name": "stdout",
     "output_type": "stream",
     "text": [
      "o elemento 1 está contido em conj2\n",
      "o elemento 2 está contido em conj2\n",
      "o elemento 3 NAO está contido em conj2\n",
      "o elemento 4 está contido em conj2\n",
      "o elemento 5 NAO está contido em conj2\n",
      "o elemento 6 NAO está contido em conj2\n"
     ]
    }
   ],
   "source": [
    "conj2 = {1, 17, 12, 4, 2 ,20}\n",
    "\n",
    "for elemento in conj1:\n",
    "    if elemento in conj2:\n",
    "        print(\"o elemento {} está contido em conj2\".format(elemento))\n",
    "    else:\n",
    "        print(\"o elemento {} NAO está contido em conj2\".format(elemento))"
   ]
  },
  {
   "cell_type": "markdown",
   "id": "0c3b9fb3",
   "metadata": {},
   "source": [
    "### Iterando em um dicionário"
   ]
  },
  {
   "cell_type": "code",
   "execution_count": 11,
   "id": "d9c1b49d",
   "metadata": {},
   "outputs": [
    {
     "name": "stdout",
     "output_type": "stream",
     "text": [
      "MG\n",
      "PR\n",
      "BA\n",
      "RN\n",
      "AM\n"
     ]
    }
   ],
   "source": [
    "dic_estados = {\"MG\":\"Minas Gerais\", \"PR\":\"Paraná\", \"BA\":\"Bahia\", \"RN\":\"Rio Grande do Norte\", \"AM\":\"Amazonas\"}\n",
    "for estados in dic_estados:\n",
    "    print(estados)"
   ]
  },
  {
   "cell_type": "code",
   "execution_count": 12,
   "id": "be68cab3",
   "metadata": {},
   "outputs": [
    {
     "name": "stdout",
     "output_type": "stream",
     "text": [
      "Minas Gerais\n",
      "Paraná\n",
      "Bahia\n",
      "Rio Grande do Norte\n",
      "Amazonas\n"
     ]
    }
   ],
   "source": [
    "for est in dic_estados.values():\n",
    "    print(est)"
   ]
  },
  {
   "cell_type": "code",
   "execution_count": 15,
   "id": "4d0d2c01",
   "metadata": {},
   "outputs": [
    {
     "name": "stdout",
     "output_type": "stream",
     "text": [
      "Minas Gerais MG\n",
      "Paraná PR\n",
      "Bahia BA\n",
      "Rio Grande do Norte RN\n",
      "Amazonas AM\n"
     ]
    }
   ],
   "source": [
    "for (sig,est) in dic_estados.items():\n",
    "    print(est,sig)"
   ]
  },
  {
   "cell_type": "markdown",
   "id": "e5826f5b",
   "metadata": {},
   "source": [
    "### Comprehensions\n",
    "~~~\n",
    "maneira do Python de criar sequencias (listas, tuplas, dicionarios, strings, etc)\n",
    "~~~\n",
    "    listasaida = [expressao for var in listaentrada]"
   ]
  },
  {
   "cell_type": "code",
   "execution_count": null,
   "id": "f623e81d",
   "metadata": {},
   "outputs": [],
   "source": [
    "# COMO CRIAR UMA LISTA de 1 a 20?\n",
    "\n",
    "# 1 MANEIRA\n",
    "lista = [1, 2, 3, 4, 5, 6, 7, 8, 9, 10, 11, 12, 13, 14, 15, 16, 17, 18, 19, 20]\n",
    "\n",
    "# 2 MANEIRA \n",
    "lista1 = list(range(1,21))\n",
    "\n",
    "# 3 MANEIRA\n",
    "lista3 = []\n",
    "for i in range(1,21):\n",
    "    lista3.append(i)\n",
    "    \n",
    "#############\n",
    "# 4 MANEIRA - COMPREHENSION\n",
    "lista4 = [i for i in range(1, 21)] "
   ]
  },
  {
   "cell_type": "code",
   "execution_count": null,
   "id": "90d41cd3",
   "metadata": {},
   "outputs": [],
   "source": [
    "# criar uma lista de nums pares entre 1 e 50\n",
    "\n",
    "# MANEIRA 1\n",
    "pares = []\n",
    "for i in range(1, 51)\n",
    "    if i%2 == 0\n",
    "        pares.append(i)\n",
    "\n",
    "############\n",
    "# MANEIRA 2 - COMPREHENSION\n",
    "pares2 = [num for num in range(1,51) if num %2 == 0]     "
   ]
  },
  {
   "cell_type": "code",
   "execution_count": 16,
   "id": "ef3c9d9e",
   "metadata": {},
   "outputs": [
    {
     "data": {
      "text/plain": [
       "[21, 42, 63, 84]"
      ]
     },
     "execution_count": 16,
     "metadata": {},
     "output_type": "execute_result"
    }
   ],
   "source": [
    "# lista de nums divisiveis por 3 e 7 entre 1 e 100\n",
    "divisiveis3e7 = [num for num in range(1,100) if num%3 == 0 and num%7 == 0]\n",
    "divisiveis3e7"
   ]
  },
  {
   "cell_type": "markdown",
   "id": "47cf4347",
   "metadata": {},
   "source": [
    "## Funções\n",
    "~~~\n",
    "são blocos que contem um nome, recebem uma lista de parâmetros e podem ou não retornar um resultado\n",
    "~~~"
   ]
  },
  {
   "cell_type": "code",
   "execution_count": null,
   "id": "93b4d773",
   "metadata": {},
   "outputs": [],
   "source": [
    "def func_01(a):\n",
    "    \"\"\"\n",
    "    docummentation string - explica o que a função faz, é um comentário que aparece na definição da função\n",
    "    \"\"\"\n",
    "    print(a)"
   ]
  },
  {
   "cell_type": "code",
   "execution_count": 20,
   "id": "2a8e6236",
   "metadata": {},
   "outputs": [],
   "source": [
    "def raiz(r, num):\n",
    "    \"\"\"\n",
    "    calcula raizes atraves de operações de potência\n",
    "    \"\"\"\n",
    "    return num**(1/r)"
   ]
  },
  {
   "cell_type": "code",
   "execution_count": 21,
   "id": "81e035ca",
   "metadata": {},
   "outputs": [
    {
     "data": {
      "text/plain": [
       "3.0"
      ]
     },
     "execution_count": 21,
     "metadata": {},
     "output_type": "execute_result"
    }
   ],
   "source": [
    "a = raiz(3,27)\n",
    "a"
   ]
  },
  {
   "cell_type": "code",
   "execution_count": 22,
   "id": "18ad80e5",
   "metadata": {},
   "outputs": [
    {
     "data": {
      "text/plain": [
       "4.0"
      ]
     },
     "execution_count": 22,
     "metadata": {},
     "output_type": "execute_result"
    }
   ],
   "source": [
    "b = raiz(num = 16, r=2)\n",
    "b"
   ]
  },
  {
   "cell_type": "markdown",
   "id": "4f80f62c",
   "metadata": {},
   "source": [
    "### Funções Lambda\n",
    "~~~\n",
    "são funções definidas anonimamente em uma única linha\n",
    "~~~"
   ]
  },
  {
   "cell_type": "code",
   "execution_count": null,
   "id": "ca06d48f",
   "metadata": {},
   "outputs": [],
   "source": [
    "# maneira 1 de definir uma função potencia\n",
    "def potencia(num,pot):\n",
    "    result = num**pot\n",
    "    return result\n",
    "\n",
    "# maneira 2 \n",
    "def potencia(num,pot):\n",
    "    return num**pot\n",
    "\n",
    "# maneira 3\n",
    "def potencia(num, pot): return num**pot \n"
   ]
  },
  {
   "cell_type": "code",
   "execution_count": null,
   "id": "c3a963f3",
   "metadata": {},
   "outputs": [],
   "source": [
    "# FUNÇÃO LAMBDA\n",
    "lambda num, por: num**pot"
   ]
  },
  {
   "cell_type": "code",
   "execution_count": null,
   "id": "29e0b6cb",
   "metadata": {},
   "outputs": [],
   "source": [
    "lambda_pot = lambda num, pot: num**pot    # atribuindo o resultado da função lambda a uma variável"
   ]
  }
 ],
 "metadata": {
  "kernelspec": {
   "display_name": "Python 3 (ipykernel)",
   "language": "python",
   "name": "python3"
  },
  "language_info": {
   "codemirror_mode": {
    "name": "ipython",
    "version": 3
   },
   "file_extension": ".py",
   "mimetype": "text/x-python",
   "name": "python",
   "nbconvert_exporter": "python",
   "pygments_lexer": "ipython3",
   "version": "3.11.5"
  }
 },
 "nbformat": 4,
 "nbformat_minor": 5
}
