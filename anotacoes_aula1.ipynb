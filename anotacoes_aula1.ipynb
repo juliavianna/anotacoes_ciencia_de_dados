{
 "cells": [
  {
   "cell_type": "markdown",
   "id": "654b344f",
   "metadata": {},
   "source": [
    "## operadores aritméticos:\n",
    "~~~~\n",
    "+ adição\n",
    "- subtração\n",
    "* multiplicação \n",
    "/ divisão\n",
    "// quociente\n",
    "% resto\n",
    "** exponenciação (2**3)\n",
    "** radiciação (16*(1/2))\n",
    "\n",
    "    segue a regra de ordem de importância = parêntese, mult/adição, soma/sub\n",
    "~~~~"
   ]
  },
  {
   "cell_type": "code",
   "execution_count": 1,
   "id": "6b0b0f14",
   "metadata": {},
   "outputs": [
    {
     "name": "stdout",
     "output_type": "stream",
     "text": [
      "1.0\n"
     ]
    }
   ],
   "source": [
    "print(1/2 +1.0/2)"
   ]
  },
  {
   "cell_type": "markdown",
   "id": "5f2ffd8d",
   "metadata": {},
   "source": [
    "## variáveis :\n",
    "~~~\n",
    " variáveis é um espaço na memória RAM usado para armazenar informações/dados\n",
    " os identificadores são compostos por letras, numeros e _. deve começar com letras ou _\n",
    "     \n",
    " é importante dar nomes significativos e ñ tão grandes ás suas variáveis para saber o que a variável de fato armazena\n",
    "~~~"
   ]
  },
  {
   "cell_type": "code",
   "execution_count": null,
   "id": "bd2c82a4",
   "metadata": {},
   "outputs": [],
   "source": [
    "##são válidos\n",
    "nome \n",
    "NUMERO10\n",
    "Salario\n",
    "i2345\n",
    "_data_nascim\n",
    "## não são válidos\n",
    "salário\n",
    "10numero\n",
    "!aaa\n",
    "data-nacimento"
   ]
  },
  {
   "cell_type": "markdown",
   "id": "f1252780",
   "metadata": {},
   "source": [
    "## comando de atribuição das variáveis :\n",
    "~~~\n",
    "as variáveis não são declaradas como em outras linguagens, mas apenas é feita a atribuição (=) de valor a uma variável e o python mesmo ja entende o tipo da variável\n",
    "~~~"
   ]
  },
  {
   "cell_type": "code",
   "execution_count": null,
   "id": "2b4d81f3",
   "metadata": {},
   "outputs": [],
   "source": [
    "idade = 19\n",
    "nome = 'Julia Vianna'\n",
    "aprovada = True\n",
    "altura = 1.59"
   ]
  },
  {
   "cell_type": "markdown",
   "id": "e40ed7c4",
   "metadata": {},
   "source": [
    "## verificando tipos de dados e variáveis \n",
    "~~~\n",
    "o método **type()** retorna o tipo de dado da variável\n",
    "~~~"
   ]
  },
  {
   "cell_type": "code",
   "execution_count": 5,
   "id": "ca2447de",
   "metadata": {},
   "outputs": [
    {
     "data": {
      "text/plain": [
       "int"
      ]
     },
     "execution_count": 5,
     "metadata": {},
     "output_type": "execute_result"
    }
   ],
   "source": [
    "idade = 19\n",
    "type(idade)"
   ]
  },
  {
   "cell_type": "code",
   "execution_count": 6,
   "id": "be5eee3e",
   "metadata": {},
   "outputs": [
    {
     "data": {
      "text/plain": [
       "str"
      ]
     },
     "execution_count": 6,
     "metadata": {},
     "output_type": "execute_result"
    }
   ],
   "source": [
    "nome = 'Julia Vianna'\n",
    "type(nome)"
   ]
  },
  {
   "cell_type": "markdown",
   "id": "2f9fa835",
   "metadata": {},
   "source": [
    "##### isinstance()\n",
    " passa uma veriável seguida do tipo e testa se a variável pertence a esse tipo\n",
    " responde true/false"
   ]
  },
  {
   "cell_type": "code",
   "execution_count": 7,
   "id": "d3f25d6a",
   "metadata": {},
   "outputs": [
    {
     "data": {
      "text/plain": [
       "True"
      ]
     },
     "execution_count": 7,
     "metadata": {},
     "output_type": "execute_result"
    }
   ],
   "source": [
    "isinstance(5, int)"
   ]
  },
  {
   "cell_type": "code",
   "execution_count": 8,
   "id": "67e5e0bd",
   "metadata": {},
   "outputs": [
    {
     "data": {
      "text/plain": [
       "False"
      ]
     },
     "execution_count": 8,
     "metadata": {},
     "output_type": "execute_result"
    }
   ],
   "source": [
    "isinstance(10, str)"
   ]
  },
  {
   "cell_type": "markdown",
   "id": "241a9401",
   "metadata": {},
   "source": [
    "## imprimindo valores e variáveis "
   ]
  },
  {
   "cell_type": "code",
   "execution_count": 11,
   "id": "20a671ab",
   "metadata": {},
   "outputs": [
    {
     "name": "stdout",
     "output_type": "stream",
     "text": [
      "nome\n"
     ]
    }
   ],
   "source": [
    "nome = 'Julia'\n",
    "print('nome')"
   ]
  },
  {
   "cell_type": "code",
   "execution_count": 10,
   "id": "eee4831c",
   "metadata": {},
   "outputs": [
    {
     "name": "stdout",
     "output_type": "stream",
     "text": [
      "Julia\n"
     ]
    }
   ],
   "source": [
    "nome = 'Julia'\n",
    "print(nome)"
   ]
  },
  {
   "cell_type": "code",
   "execution_count": 12,
   "id": "a1d71ef9",
   "metadata": {},
   "outputs": [
    {
     "name": "stdout",
     "output_type": "stream",
     "text": [
      "Meu nome é Julia e tenho 19 anos\n"
     ]
    }
   ],
   "source": [
    "nome = 'Julia'\n",
    "idade = 19\n",
    "print('Meu nome é {} e tenho {} anos'.format(nome, idade))"
   ]
  },
  {
   "cell_type": "markdown",
   "id": "8e565ea1",
   "metadata": {},
   "source": [
    "## transformando equações mat em expr aritméticas"
   ]
  },
  {
   "cell_type": "markdown",
   "id": "d1fa3c44",
   "metadata": {},
   "source": [
    "#### calculo da area e comprimento da circunferência\n",
    "~~~\n",
    "area = pi * raio^2\n",
    "comprimento = 2 * pi * raio\n",
    "~~~"
   ]
  },
  {
   "cell_type": "code",
   "execution_count": 13,
   "id": "a9061477",
   "metadata": {},
   "outputs": [
    {
     "name": "stdout",
     "output_type": "stream",
     "text": [
      "12.56636\n"
     ]
    }
   ],
   "source": [
    "raio = 2\n",
    "pi = 3.14159\n",
    "area = pi * raio **2\n",
    "comprimento = 2 * pi * raio\n",
    "print(comprimento)"
   ]
  },
  {
   "cell_type": "markdown",
   "id": "801ccc0e",
   "metadata": {},
   "source": [
    "## calculo da distância euclidiana entre 2 pts\n",
    "~~~\n",
    "distância = raiz de (x1-x2)^2 + (y1 - y2)^2\n",
    "~~~"
   ]
  },
  {
   "cell_type": "code",
   "execution_count": 17,
   "id": "a189af43",
   "metadata": {},
   "outputs": [
    {
     "name": "stdout",
     "output_type": "stream",
     "text": [
      "2.8284271247461903\n"
     ]
    }
   ],
   "source": [
    "x1 = 3\n",
    "x2 = 5\n",
    "y1 = 4\n",
    "y2 = 6\n",
    "dist = ((x1-x2)**2 + (y1-y2)**2)**(1/2)\n",
    "print(dist)"
   ]
  },
  {
   "cell_type": "markdown",
   "id": "19493064",
   "metadata": {},
   "source": [
    "# Unidade 2"
   ]
  },
  {
   "cell_type": "markdown",
   "id": "0ac110cf",
   "metadata": {},
   "source": [
    "## -- Listas --"
   ]
  },
  {
   "cell_type": "markdown",
   "id": "770f60a1",
   "metadata": {},
   "source": [
    "lista é uma **coleção de elementos**\n",
    "\n",
    "é semelhante ao vetor de outras linguagens \n",
    "\n",
    "tem tamanho dinâmico (aumentam e diminuem)\n",
    "\n",
    "cada elemento possui uma posição, chamada de índice (posição = indice)\n",
    "\n",
    "primeiro elemento tem indice 0, o ultimo tem índice n-1\n",
    "\n",
    "em pyhton, uma lista tem 2 índices, um crescente que começa em 0 e termina em n-1, e um decrescente que começa em n e vai até o -1"
   ]
  },
  {
   "cell_type": "code",
   "execution_count": 2,
   "id": "d9a13a84",
   "metadata": {
    "scrolled": true
   },
   "outputs": [
    {
     "ename": "IndentationError",
     "evalue": "unexpected indent (528040222.py, line 3)",
     "output_type": "error",
     "traceback": [
      "\u001b[1;36m  Cell \u001b[1;32mIn[2], line 3\u001b[1;36m\u001b[0m\n\u001b[1;33m    lista_vazia = []\u001b[0m\n\u001b[1;37m    ^\u001b[0m\n\u001b[1;31mIndentationError\u001b[0m\u001b[1;31m:\u001b[0m unexpected indent\n"
     ]
    }
   ],
   "source": [
    "# Criando uma lista vazia\n",
    " # foma 1\n",
    "    lista_vazia = []\n",
    " # forma 2\n",
    "    lista_vazia2 = list()"
   ]
  },
  {
   "cell_type": "code",
   "execution_count": null,
   "id": "7507cc7b",
   "metadata": {},
   "outputs": [],
   "source": [
    "# método que verifica o tamanho da lista\n",
    "len(lista_vazia)"
   ]
  },
  {
   "cell_type": "code",
   "execution_count": null,
   "id": "68bc1120",
   "metadata": {},
   "outputs": [],
   "source": [
    "#criando listas com elementos\n",
    "lista = [1, 4, -20, 0, 7394, -12]\n",
    "lista_reais = [1.5, -2.13, 5.4]\n",
    "lista_bools = [True, True, False, True]\n",
    "lista_misturada = [1, 2, 3.90, -1, \"teste\"]\n",
    "listas_aninhadas = [[1,2,4], [4,6,6], [7,8,9]]"
   ]
  },
  {
   "cell_type": "markdown",
   "id": "5805da3c",
   "metadata": {},
   "source": [
    "### Acessando elementos de uma lista"
   ]
  },
  {
   "cell_type": "code",
   "execution_count": null,
   "id": "fcfa4d27",
   "metadata": {},
   "outputs": [],
   "source": [
    "# índice 0 , primeira posição\n",
    "lista[0]\n",
    "# índice 3, quarta posição\n",
    "lista[3]"
   ]
  },
  {
   "cell_type": "markdown",
   "id": "78f85d8a",
   "metadata": {},
   "source": [
    "### Modificando elementos de uma  lista\n"
   ]
  },
  {
   "cell_type": "code",
   "execution_count": null,
   "id": "b7f7d7c5",
   "metadata": {},
   "outputs": [],
   "source": [
    "# altera o valor que estava no indice  1 para 18\n",
    "lista[1] = 18\n",
    "# elemento do indice 2 recebe a soma dos dois elementos anteriores da lista\n",
    "lista[2] = lista[0] + lista[1]"
   ]
  },
  {
   "cell_type": "markdown",
   "id": "e7f1d0ac",
   "metadata": {},
   "source": [
    "## --Tuplas --"
   ]
  },
  {
   "cell_type": "markdown",
   "id": "5e6bb652",
   "metadata": {},
   "source": [
    "~~~\n",
    "é uma coleção de elementos IMUTAVEIS\n",
    "seus elementos são fixos, uma vez definidos ssão imutáveis (nao pode adicionar, remover, alterar)\n",
    "cada elemento possui uma posição, que é chamada de índice (posição = índice)\n",
    "primeiro elemento tem indice 0, o ultimo tem índice n-1\n",
    "~~~"
   ]
  },
  {
   "cell_type": "code",
   "execution_count": null,
   "id": "dedfdcec",
   "metadata": {},
   "outputs": [],
   "source": [
    "# criando tupla vazia\n",
    "tupla_vazia = ()\n",
    "tupla_vazia = tuple()\n",
    "\n",
    "#verificar qtd de elementos da tupla \n",
    "len(tupla_vazia)\n",
    "\n",
    "# tuplas com elementos\n",
    "tupla1 = (3, 18, 4, 8, 73)\n",
    "tupla2 = (3, 92, \"tupla\", 22, (1,2,3), 1, 2, [1,2,3])"
   ]
  },
  {
   "cell_type": "markdown",
   "id": "e6f5f307",
   "metadata": {},
   "source": [
    "### Acessando elementos"
   ]
  },
  {
   "cell_type": "code",
   "execution_count": null,
   "id": "4397af3f",
   "metadata": {},
   "outputs": [],
   "source": [
    "# indice 0, primeira posição\n",
    "tupla1[0]\n",
    "\n",
    "# indice 5 da tupla 2\n",
    "tupla2 = [5]"
   ]
  },
  {
   "cell_type": "markdown",
   "id": "7d9c8d71",
   "metadata": {},
   "source": [
    "### A imutabilidade de uma tupla\n",
    "~~~\n",
    "se eu tentar mudar o valor de um elemento de uma tupla, acontecerá um erro\n",
    "~~~~"
   ]
  },
  {
   "cell_type": "code",
   "execution_count": null,
   "id": "f141ede7",
   "metadata": {},
   "outputs": [],
   "source": [
    "tupla[0] = 5"
   ]
  },
  {
   "cell_type": "markdown",
   "id": "58dec93a",
   "metadata": {},
   "source": [
    "### Principais métodos de uma tupla"
   ]
  },
  {
   "cell_type": "code",
   "execution_count": null,
   "id": "f6eb88ab",
   "metadata": {},
   "outputs": [],
   "source": [
    "# contar qtas vezes um numero aparece em uma tupla\n",
    "tupla1.count(3)\n",
    "\n",
    "# verificar em que posição está armazenado o elemento 21\n",
    "tupla.index(21)"
   ]
  },
  {
   "cell_type": "markdown",
   "id": "438a637f",
   "metadata": {},
   "source": [
    "### Funçoes de uma tupla\n"
   ]
  },
  {
   "cell_type": "code",
   "execution_count": null,
   "id": "47c5e53a",
   "metadata": {},
   "outputs": [],
   "source": [
    "len(tupla)\n",
    "max(tupla)\n",
    "min(tupla)\n",
    "sum(tupla)"
   ]
  },
  {
   "cell_type": "markdown",
   "id": "c3acad4c",
   "metadata": {},
   "source": [
    "### Convertendo tupla em lista\n"
   ]
  },
  {
   "cell_type": "code",
   "execution_count": null,
   "id": "f0ecca55",
   "metadata": {},
   "outputs": [],
   "source": [
    "lista = list(tupla)\n",
    "# lista resultante da conversão permite a alteração da tupla"
   ]
  },
  {
   "cell_type": "markdown",
   "id": "e1997ce3",
   "metadata": {},
   "source": [
    "## -- Dicionários --"
   ]
  },
  {
   "cell_type": "markdown",
   "id": "9e2fb990",
   "metadata": {},
   "source": [
    "~~~\n",
    "nos dicionários, armazenamos uma informação (VALOR) que queremos localizar e recuperar através de uma CHAVE\n",
    "valor associado a uma chave\n",
    "VALUE -> KEY\n",
    "~~~"
   ]
  },
  {
   "cell_type": "code",
   "execution_count": 5,
   "id": "265dee5b",
   "metadata": {},
   "outputs": [],
   "source": [
    "# criando dicionários\n",
    "dic_vazio = {}\n",
    "dic_vazio2 = dict()\n",
    "# verificar s eo dic vazio é uma instância de dict\n",
    "isinstance(dic_vazio, dict)"
   ]
  },
  {
   "cell_type": "code",
   "execution_count": null,
   "id": "b2cd84d1",
   "metadata": {},
   "outputs": [],
   "source": [
    "# criando um dicionario com pares chave/valor\n",
    "dic_estados = {\"MG\":\"Minas Gerais\", \"PR\":\"Paraná\",\"BA\":\"Bahia\", \"RN\":\"Rio Grande do Norte\", \"AM\":\"Amazonas\" }"
   ]
  },
  {
   "cell_type": "markdown",
   "id": "e7574d4b",
   "metadata": {},
   "source": [
    "### Acessando um valor através de uma chave"
   ]
  },
  {
   "cell_type": "code",
   "execution_count": null,
   "id": "d76262be",
   "metadata": {},
   "outputs": [],
   "source": [
    "dic_estados[\"PR\"]\n",
    "\n",
    "print(\" eu nasci em \"+dic_estados[\"MG\"]+\".\")\n",
    "\n",
    "## se a chave nao existir retorna erro\n",
    "\n",
    "dic_produtos[29]"
   ]
  },
  {
   "cell_type": "markdown",
   "id": "5b2d664d",
   "metadata": {},
   "source": [
    "### Modificando valores"
   ]
  },
  {
   "cell_type": "code",
   "execution_count": null,
   "id": "2893b22f",
   "metadata": {},
   "outputs": [],
   "source": [
    "# corrige o nome do estado amazonas\n",
    "dic_estados[\"AM\"] = \"Amazonas\""
   ]
  },
  {
   "cell_type": "code",
   "execution_count": null,
   "id": "bfcbdbde",
   "metadata": {},
   "outputs": [],
   "source": [
    "dic_notas_alunos = {\"Jose\": [20, 30, 20], \"Joao\": [19, 35, 22]}\n",
    "\n",
    "# alterando a nota da segunda prova de Joao\n",
    "dic_notas_alunos[\"Joao\"][1]= 22\n",
    "\n",
    "# alterando a nota das tres provas de jose\n",
    "dic_notas_alunos[\"Jose\"] = [19, 25, 22]"
   ]
  },
  {
   "cell_type": "markdown",
   "id": "78440e38",
   "metadata": {},
   "source": [
    "## -- Conjuntos --"
   ]
  },
  {
   "cell_type": "markdown",
   "id": "2d23ba19",
   "metadata": {},
   "source": [
    "~~~\n",
    "são coleções de elementos unicos\n",
    "n permite elementos repetidos\n",
    "os elementos são armazenados em ordem \n",
    "permite união, interseçõa e diferença\n",
    "não pode conter outras estruturas aninhadas (lista dentro de conjunto, tupla dentro de conj..)\n",
    "~~~"
   ]
  },
  {
   "cell_type": "code",
   "execution_count": null,
   "id": "d133014e",
   "metadata": {},
   "outputs": [],
   "source": [
    "# criando conjuntos\n",
    "conj_vazio = set() # constroi um conjunto vazio\n",
    "conj_vazio2 = {} # constroi um dicionario vazio\n",
    "\n",
    "conj1 = {1, 2, 3, 4}\n",
    "conj2 = {\"A\", \"B\", \"C\", \"D\"}\n"
   ]
  },
  {
   "cell_type": "markdown",
   "id": "19ece0e9",
   "metadata": {},
   "source": [
    "### Acessando elementos"
   ]
  },
  {
   "cell_type": "code",
   "execution_count": null,
   "id": "709e8d28",
   "metadata": {},
   "outputs": [],
   "source": [
    "# conjuntos nao suportam indexação, é preciso usar o for\n",
    "for elem in conj:\n",
    "    print(elem)"
   ]
  },
  {
   "cell_type": "markdown",
   "id": "278c3248",
   "metadata": {},
   "source": [
    "### Modificando elementos\n",
    "~~~~\n",
    "não da pra modificar elementos me um conjunto\n",
    "pode-se exlcuir um elemento e em seguida inserir um novo elemento\n",
    "~~~~"
   ]
  }
 ],
 "metadata": {
  "kernelspec": {
   "display_name": "Python 3 (ipykernel)",
   "language": "python",
   "name": "python3"
  },
  "language_info": {
   "codemirror_mode": {
    "name": "ipython",
    "version": 3
   },
   "file_extension": ".py",
   "mimetype": "text/x-python",
   "name": "python",
   "nbconvert_exporter": "python",
   "pygments_lexer": "ipython3",
   "version": "3.11.5"
  }
 },
 "nbformat": 4,
 "nbformat_minor": 5
}
