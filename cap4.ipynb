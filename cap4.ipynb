{
 "cells": [
  {
   "cell_type": "markdown",
   "id": "2b363738",
   "metadata": {},
   "source": [
    "# NumPy - Numerical Python"
   ]
  },
  {
   "cell_type": "code",
   "execution_count": 2,
   "id": "ae7a89f4",
   "metadata": {},
   "outputs": [],
   "source": [
    "import numpy as np"
   ]
  },
  {
   "cell_type": "markdown",
   "id": "b2accd1e",
   "metadata": {},
   "source": [
    "### Criando arrays de 1 dimensão"
   ]
  },
  {
   "cell_type": "code",
   "execution_count": null,
   "id": "4a728096",
   "metadata": {},
   "outputs": [],
   "source": [
    "a1D = np.array([1, 2, 3])  # função do numpy q cria array"
   ]
  },
  {
   "cell_type": "code",
   "execution_count": null,
   "id": "4b65bd4f",
   "metadata": {},
   "outputs": [],
   "source": [
    "b1D = np.array([1, 2, 3], dtype = float) # array do tipo float"
   ]
  },
  {
   "cell_type": "markdown",
   "id": "0142cbf0",
   "metadata": {},
   "source": [
    "### Criando arrays de 2 dimensões (matriz)"
   ]
  },
  {
   "cell_type": "code",
   "execution_count": 4,
   "id": "2d538608",
   "metadata": {},
   "outputs": [
    {
     "data": {
      "text/plain": [
       "array([[1, 2, 3],\n",
       "       [4, 5, 6],\n",
       "       [7, 8, 9]])"
      ]
     },
     "execution_count": 4,
     "metadata": {},
     "output_type": "execute_result"
    }
   ],
   "source": [
    "a2D = np.array([[1, 2, 3], [4, 5, 6],[7, 8, 9]])\n",
    "a2D"
   ]
  },
  {
   "cell_type": "markdown",
   "id": "b546e8b8",
   "metadata": {},
   "source": [
    "### Criando arrays de 3 dimensões"
   ]
  },
  {
   "cell_type": "code",
   "execution_count": 5,
   "id": "fa097513",
   "metadata": {},
   "outputs": [
    {
     "data": {
      "text/plain": [
       "array([[[1, 2, 3],\n",
       "        [4, 5, 6],\n",
       "        [7, 8, 9]]])"
      ]
     },
     "execution_count": 5,
     "metadata": {},
     "output_type": "execute_result"
    }
   ],
   "source": [
    "a3D = np.array([[[1, 2, 3], [4, 5, 6], [7, 8, 9]]])\n",
    "a3D"
   ]
  },
  {
   "cell_type": "markdown",
   "id": "46d1f442",
   "metadata": {},
   "source": [
    "\n",
    "\n",
    "## Propriedades de um array"
   ]
  },
  {
   "cell_type": "markdown",
   "id": "f4c1adbb",
   "metadata": {},
   "source": [
    "### Verifica o formato - shape"
   ]
  },
  {
   "cell_type": "code",
   "execution_count": 6,
   "id": "5039ac35",
   "metadata": {},
   "outputs": [
    {
     "data": {
      "text/plain": [
       "(1, 3, 3)"
      ]
     },
     "execution_count": 6,
     "metadata": {},
     "output_type": "execute_result"
    }
   ],
   "source": [
    "a3D.shape"
   ]
  },
  {
   "cell_type": "markdown",
   "id": "9efd694e",
   "metadata": {},
   "source": [
    "### Verifica o numero de dimensões - dim"
   ]
  },
  {
   "cell_type": "code",
   "execution_count": 7,
   "id": "a011c2c4",
   "metadata": {},
   "outputs": [
    {
     "data": {
      "text/plain": [
       "3"
      ]
     },
     "execution_count": 7,
     "metadata": {},
     "output_type": "execute_result"
    }
   ],
   "source": [
    "a3D.ndim"
   ]
  },
  {
   "cell_type": "markdown",
   "id": "a85c1b7a",
   "metadata": {},
   "source": [
    "### Verifica o tamanho das dimensões - len"
   ]
  },
  {
   "cell_type": "code",
   "execution_count": 8,
   "id": "aa35943b",
   "metadata": {},
   "outputs": [
    {
     "data": {
      "text/plain": [
       "1"
      ]
     },
     "execution_count": 8,
     "metadata": {},
     "output_type": "execute_result"
    }
   ],
   "source": [
    "len(a3D) #retorna o tamanho da primeira dimensão"
   ]
  },
  {
   "cell_type": "code",
   "execution_count": 9,
   "id": "f1d29534",
   "metadata": {},
   "outputs": [
    {
     "data": {
      "text/plain": [
       "3"
      ]
     },
     "execution_count": 9,
     "metadata": {},
     "output_type": "execute_result"
    }
   ],
   "source": [
    "len(a3D[0]) #retorna o tamanho da segunda dimensão"
   ]
  },
  {
   "cell_type": "markdown",
   "id": "3eca94ff",
   "metadata": {},
   "source": [
    "### Verifica a qtd de elementos - size"
   ]
  },
  {
   "cell_type": "code",
   "execution_count": 10,
   "id": "8c967951",
   "metadata": {},
   "outputs": [
    {
     "data": {
      "text/plain": [
       "9"
      ]
     },
     "execution_count": 10,
     "metadata": {},
     "output_type": "execute_result"
    }
   ],
   "source": [
    "a3D.size"
   ]
  },
  {
   "cell_type": "markdown",
   "id": "bcf9a662",
   "metadata": {},
   "source": [
    "### Verifica o tipo dos elementos - dtype"
   ]
  },
  {
   "cell_type": "code",
   "execution_count": 11,
   "id": "88f5d432",
   "metadata": {},
   "outputs": [
    {
     "data": {
      "text/plain": [
       "dtype('int32')"
      ]
     },
     "execution_count": 11,
     "metadata": {},
     "output_type": "execute_result"
    }
   ],
   "source": [
    "a3D.dtype"
   ]
  },
  {
   "cell_type": "markdown",
   "id": "810a87ee",
   "metadata": {},
   "source": [
    "## Indexação e fatiamento"
   ]
  },
  {
   "cell_type": "markdown",
   "id": "2fdde845",
   "metadata": {},
   "source": [
    "### Acessando elementos específicos"
   ]
  },
  {
   "cell_type": "code",
   "execution_count": 17,
   "id": "0de66e63",
   "metadata": {},
   "outputs": [
    {
     "data": {
      "text/plain": [
       "5"
      ]
     },
     "execution_count": 17,
     "metadata": {},
     "output_type": "execute_result"
    }
   ],
   "source": [
    "# array de 1 dimensão\n",
    "a1d = np.random.randint(0,10,10)\n",
    "a1d[0]"
   ]
  },
  {
   "cell_type": "code",
   "execution_count": 18,
   "id": "b3117c24",
   "metadata": {},
   "outputs": [
    {
     "data": {
      "text/plain": [
       "40"
      ]
     },
     "execution_count": 18,
     "metadata": {},
     "output_type": "execute_result"
    }
   ],
   "source": [
    "# array de 2 dimensões\n",
    "a2d = np.random.randint(1, 101, (4,5))\n",
    "a2d[1][2]"
   ]
  },
  {
   "cell_type": "code",
   "execution_count": 19,
   "id": "d096eb2c",
   "metadata": {},
   "outputs": [
    {
     "data": {
      "text/plain": [
       "0.3563455005469286"
      ]
     },
     "execution_count": 19,
     "metadata": {},
     "output_type": "execute_result"
    }
   ],
   "source": [
    "# array de 3 dimensões\n",
    "a3d = np.random.random((3,4,6))\n",
    "a3d[2][0][3]"
   ]
  },
  {
   "cell_type": "markdown",
   "id": "d0f8a84f",
   "metadata": {},
   "source": [
    "### Fatiamento"
   ]
  },
  {
   "cell_type": "code",
   "execution_count": 20,
   "id": "1ab97051",
   "metadata": {},
   "outputs": [
    {
     "data": {
      "text/plain": [
       "array([9, 4, 4, 3])"
      ]
     },
     "execution_count": 20,
     "metadata": {},
     "output_type": "execute_result"
    }
   ],
   "source": [
    "a = a1d[1:5]\n",
    "a"
   ]
  },
  {
   "cell_type": "code",
   "execution_count": 21,
   "id": "495af8cf",
   "metadata": {},
   "outputs": [
    {
     "data": {
      "text/plain": [
       "array([58, 78, 99])"
      ]
     },
     "execution_count": 21,
     "metadata": {},
     "output_type": "execute_result"
    }
   ],
   "source": [
    "b = a2d[2,1:4] # linha 2 colunas 1,2 e 3\n",
    "b"
   ]
  },
  {
   "cell_type": "markdown",
   "id": "36581f8b",
   "metadata": {},
   "source": [
    "### Indexação com booleanos"
   ]
  },
  {
   "cell_type": "code",
   "execution_count": 22,
   "id": "52019b92",
   "metadata": {},
   "outputs": [
    {
     "data": {
      "text/plain": [
       "array([[False, False, False, False, False],\n",
       "       [False, False, False, False, False],\n",
       "       [False, False, False, False, False],\n",
       "       [False, False, False, False, False]])"
      ]
     },
     "execution_count": 22,
     "metadata": {},
     "output_type": "execute_result"
    }
   ],
   "source": [
    "a2d>= 250"
   ]
  },
  {
   "cell_type": "markdown",
   "id": "960fd464",
   "metadata": {},
   "source": [
    "## Manipulando ndarrays"
   ]
  },
  {
   "cell_type": "code",
   "execution_count": 27,
   "id": "875a660f",
   "metadata": {},
   "outputs": [
    {
     "name": "stdout",
     "output_type": "stream",
     "text": [
      "[ True False False  True False False False]\n"
     ]
    }
   ],
   "source": [
    "dataset = np.array(['paul', 'jacob', 'vince', 'paul', 'miky', 'larence', 'warren'])\n",
    "print(dataset == 'paul')"
   ]
  },
  {
   "cell_type": "code",
   "execution_count": null,
   "id": "e38422ab",
   "metadata": {},
   "outputs": [],
   "source": []
  }
 ],
 "metadata": {
  "kernelspec": {
   "display_name": "Python 3 (ipykernel)",
   "language": "python",
   "name": "python3"
  },
  "language_info": {
   "codemirror_mode": {
    "name": "ipython",
    "version": 3
   },
   "file_extension": ".py",
   "mimetype": "text/x-python",
   "name": "python",
   "nbconvert_exporter": "python",
   "pygments_lexer": "ipython3",
   "version": "3.11.5"
  }
 },
 "nbformat": 4,
 "nbformat_minor": 5
}
